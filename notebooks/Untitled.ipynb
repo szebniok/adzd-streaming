{
 "cells": [
  {
   "cell_type": "code",
   "execution_count": 28,
   "id": "50dd1e2e",
   "metadata": {},
   "outputs": [],
   "source": [
    "from pyspark.sql import SparkSession\n",
    "\n",
    "spark = SparkSession.builder \\\n",
    "    .config(\"spark.jars.packages\", \"spark-sql-kafka-0-10_2.12\").getOrCreate()\n",
    "\n",
    "df = spark.readStream.format(\"kafka\") \\\n",
    "      .option(\"kafka.bootstrap.servers\", \"kafka:9092\") \\\n",
    "      .option(\"subscribe\", \"page_view_events\") \\\n",
    "      .load()"
   ]
  },
  {
   "cell_type": "code",
   "execution_count": 29,
   "id": "ca38923c",
   "metadata": {},
   "outputs": [],
   "source": [
    "df = df.selectExpr(\"CAST(key AS STRING)\", \"CAST(value AS STRING)\")"
   ]
  },
  {
   "cell_type": "code",
   "execution_count": 30,
   "id": "b80a7144",
   "metadata": {},
   "outputs": [
    {
     "name": "stdout",
     "output_type": "stream",
     "text": [
      "root\n",
      " |-- key: string (nullable = true)\n",
      " |-- value: string (nullable = true)\n",
      "\n"
     ]
    }
   ],
   "source": [
    "df.printSchema()"
   ]
  },
  {
   "cell_type": "code",
   "execution_count": 31,
   "id": "c148fa88",
   "metadata": {},
   "outputs": [],
   "source": [
    "query = df.writeStream.outputMode(\"append\").format(\"memory\").queryName(\"q1\").start()\n",
    "df = spark.sql(\"SELECT value FROM q1\") \\\n",
    "    .withColumn(\"value\", from_json(\"value\", schema)) \\\n",
    "    .select(col(\"value.*\"))"
   ]
  },
  {
   "cell_type": "code",
   "execution_count": null,
   "id": "ba489afd",
   "metadata": {},
   "outputs": [
    {
     "data": {
      "text/plain": [
       "{'message': 'Processing new data',\n",
       " 'isDataAvailable': True,\n",
       " 'isTriggerActive': True}"
      ]
     },
     "metadata": {},
     "output_type": "display_data"
    },
    {
     "name": "stdout",
     "output_type": "stream",
     "text": [
      "+-----+-----+\n",
      "|state|count|\n",
      "+-----+-----+\n",
      "|   NM|    1|\n",
      "|   MD|    1|\n",
      "+-----+-----+\n",
      "\n"
     ]
    },
    {
     "data": {
      "text/plain": [
       "None"
      ]
     },
     "metadata": {},
     "output_type": "display_data"
    },
    {
     "data": {
      "text/plain": [
       "{'message': 'Processing new data',\n",
       " 'isDataAvailable': True,\n",
       " 'isTriggerActive': True}"
      ]
     },
     "metadata": {},
     "output_type": "display_data"
    },
    {
     "name": "stdout",
     "output_type": "stream",
     "text": [
      "+-----+-----+\n",
      "|state|count|\n",
      "+-----+-----+\n",
      "|   CA|    2|\n",
      "|   MD|    1|\n",
      "|   MS|    1|\n",
      "|   NM|    1|\n",
      "|   TX|    1|\n",
      "|   OH|    1|\n",
      "|   MI|    1|\n",
      "|   PA|    1|\n",
      "|   NC|    1|\n",
      "|   FL|    1|\n",
      "+-----+-----+\n",
      "\n"
     ]
    },
    {
     "data": {
      "text/plain": [
       "None"
      ]
     },
     "metadata": {},
     "output_type": "display_data"
    },
    {
     "data": {
      "text/plain": [
       "{'message': 'Processing new data',\n",
       " 'isDataAvailable': True,\n",
       " 'isTriggerActive': True}"
      ]
     },
     "metadata": {},
     "output_type": "display_data"
    },
    {
     "name": "stdout",
     "output_type": "stream",
     "text": [
      "+-----+-----+\n",
      "|state|count|\n",
      "+-----+-----+\n",
      "|   FL|    3|\n",
      "|   CA|    3|\n",
      "|   TX|    2|\n",
      "|   MD|    1|\n",
      "|   OH|    1|\n",
      "|   NM|    1|\n",
      "|   MS|    1|\n",
      "|   NC|    1|\n",
      "|   MO|    1|\n",
      "|   MI|    1|\n",
      "|   PA|    1|\n",
      "|   WA|    1|\n",
      "|   GA|    1|\n",
      "|   OK|    1|\n",
      "+-----+-----+\n",
      "\n"
     ]
    },
    {
     "data": {
      "text/plain": [
       "None"
      ]
     },
     "metadata": {},
     "output_type": "display_data"
    },
    {
     "data": {
      "text/plain": [
       "{'message': 'Processing new data',\n",
       " 'isDataAvailable': True,\n",
       " 'isTriggerActive': True}"
      ]
     },
     "metadata": {},
     "output_type": "display_data"
    },
    {
     "name": "stdout",
     "output_type": "stream",
     "text": [
      "+-----+-----+\n",
      "|state|count|\n",
      "+-----+-----+\n",
      "|   CA|    4|\n",
      "|   FL|    3|\n",
      "|   NC|    2|\n",
      "|   TX|    2|\n",
      "|   MD|    1|\n",
      "|   NM|    1|\n",
      "|   MS|    1|\n",
      "|   MI|    1|\n",
      "|   PA|    1|\n",
      "|   WA|    1|\n",
      "|   OH|    1|\n",
      "|   NY|    1|\n",
      "|   MO|    1|\n",
      "|   GA|    1|\n",
      "|   OK|    1|\n",
      "|   CT|    1|\n",
      "+-----+-----+\n",
      "\n"
     ]
    },
    {
     "data": {
      "text/plain": [
       "None"
      ]
     },
     "metadata": {},
     "output_type": "display_data"
    },
    {
     "data": {
      "text/plain": [
       "{'message': 'Processing new data',\n",
       " 'isDataAvailable': True,\n",
       " 'isTriggerActive': True}"
      ]
     },
     "metadata": {},
     "output_type": "display_data"
    },
    {
     "name": "stdout",
     "output_type": "stream",
     "text": [
      "+-----+-----+\n",
      "|state|count|\n",
      "+-----+-----+\n",
      "|   CA|    4|\n",
      "|   FL|    3|\n",
      "|   NC|    2|\n",
      "|   TX|    2|\n",
      "|   MD|    1|\n",
      "|   NM|    1|\n",
      "|   MS|    1|\n",
      "|   MI|    1|\n",
      "|   PA|    1|\n",
      "|   WA|    1|\n",
      "|   OH|    1|\n",
      "|   NY|    1|\n",
      "|   MO|    1|\n",
      "|   GA|    1|\n",
      "|   OK|    1|\n",
      "|   CT|    1|\n",
      "+-----+-----+\n",
      "\n"
     ]
    },
    {
     "data": {
      "text/plain": [
       "None"
      ]
     },
     "metadata": {},
     "output_type": "display_data"
    },
    {
     "data": {
      "text/plain": [
       "{'message': 'Processing new data',\n",
       " 'isDataAvailable': True,\n",
       " 'isTriggerActive': True}"
      ]
     },
     "metadata": {},
     "output_type": "display_data"
    },
    {
     "name": "stdout",
     "output_type": "stream",
     "text": [
      "+-----+-----+\n",
      "|state|count|\n",
      "+-----+-----+\n",
      "|   CA|    4|\n",
      "|   FL|    3|\n",
      "|   NC|    2|\n",
      "|   TX|    2|\n",
      "|   MD|    1|\n",
      "|   NM|    1|\n",
      "|   MS|    1|\n",
      "|   MI|    1|\n",
      "|   PA|    1|\n",
      "|   WA|    1|\n",
      "|   OH|    1|\n",
      "|   NY|    1|\n",
      "|   MO|    1|\n",
      "|   GA|    1|\n",
      "|   OK|    1|\n",
      "|   CT|    1|\n",
      "+-----+-----+\n",
      "\n"
     ]
    },
    {
     "data": {
      "text/plain": [
       "None"
      ]
     },
     "metadata": {},
     "output_type": "display_data"
    },
    {
     "data": {
      "text/plain": [
       "{'message': 'Getting offsets from KafkaV2[Subscribe[page_view_events]]',\n",
       " 'isDataAvailable': False,\n",
       " 'isTriggerActive': True}"
      ]
     },
     "metadata": {},
     "output_type": "display_data"
    },
    {
     "name": "stdout",
     "output_type": "stream",
     "text": [
      "+-----+-----+\n",
      "|state|count|\n",
      "+-----+-----+\n",
      "|   CA|   11|\n",
      "|   TX|    9|\n",
      "|   FL|    8|\n",
      "|   NC|    7|\n",
      "|   PA|    5|\n",
      "|   GA|    5|\n",
      "|   OH|    4|\n",
      "|   NY|    2|\n",
      "|   MD|    2|\n",
      "|   MO|    2|\n",
      "|   NV|    2|\n",
      "|   CT|    2|\n",
      "|   AZ|    2|\n",
      "|   MI|    1|\n",
      "|   MS|    1|\n",
      "|   WA|    1|\n",
      "|   NM|    1|\n",
      "|   IN|    1|\n",
      "|   OK|    1|\n",
      "|   KS|    1|\n",
      "+-----+-----+\n",
      "only showing top 20 rows\n",
      "\n"
     ]
    },
    {
     "data": {
      "text/plain": [
       "None"
      ]
     },
     "metadata": {},
     "output_type": "display_data"
    }
   ],
   "source": [
    "from pyspark.sql.functions import from_json, col\n",
    "from pyspark.sql.types import StructType, StructField, StringType\n",
    "\n",
    "from IPython.display import display, clear_output\n",
    "from time import sleep\n",
    "\n",
    "schema = StructType(\n",
    "    [\n",
    "        StructField(\"state\", StringType(), True),\n",
    "        StructField(\"city\", StringType(), True)\n",
    "    ]\n",
    ")\n",
    "\n",
    "while True:\n",
    "    # clear_output(wait=True)\n",
    "    display(query.status)\n",
    "    display(df.groupBy(\"state\").count().sort(col(\"count\").desc()).show())\n",
    "    sleep(10)"
   ]
  },
  {
   "cell_type": "code",
   "execution_count": null,
   "id": "912f6f4f",
   "metadata": {},
   "outputs": [],
   "source": []
  }
 ],
 "metadata": {
  "kernelspec": {
   "display_name": "Python 3 (ipykernel)",
   "language": "python",
   "name": "python3"
  },
  "language_info": {
   "codemirror_mode": {
    "name": "ipython",
    "version": 3
   },
   "file_extension": ".py",
   "mimetype": "text/x-python",
   "name": "python",
   "nbconvert_exporter": "python",
   "pygments_lexer": "ipython3",
   "version": "3.10.8"
  }
 },
 "nbformat": 4,
 "nbformat_minor": 5
}

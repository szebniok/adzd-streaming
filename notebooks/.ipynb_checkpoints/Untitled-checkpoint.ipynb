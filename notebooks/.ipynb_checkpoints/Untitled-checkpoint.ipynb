{
 "cells": [
  {
   "cell_type": "markdown",
   "id": "eeb1a200",
   "metadata": {},
   "source": [
    "# Apache Kafka PySpark streaming\n",
    "\n",
    "Welcome to the Kafka Streaming lab class! In this class, we will be learning how to use Apache Kafka to process and analyze real-time data streams. Kafka is a distributed streaming platform that is used for building real-time data pipelines and streaming applications. It is highly scalable and fault-tolerant, making it an ideal choice for handling large volumes of data. Let's get started!\n"
   ]
  },
  {
   "cell_type": "code",
   "execution_count": 8,
   "id": "b933159c",
   "metadata": {},
   "outputs": [],
   "source": [
    "from pyspark.sql import SparkSession\n",
    "\n",
    "spark = SparkSession.builder \\\n",
    "    .config(\"spark.jars.packages\", \"spark-sql-kafka-0-10_2.12\").getOrCreate()"
   ]
  },
  {
   "cell_type": "markdown",
   "id": "0b1b8731",
   "metadata": {},
   "source": []
  },
  {
   "cell_type": "code",
   "execution_count": 9,
   "id": "50dd1e2e",
   "metadata": {},
   "outputs": [
    {
     "name": "stdout",
     "output_type": "stream",
     "text": [
      "root\n",
      " |-- key: binary (nullable = true)\n",
      " |-- value: binary (nullable = true)\n",
      " |-- topic: string (nullable = true)\n",
      " |-- partition: integer (nullable = true)\n",
      " |-- offset: long (nullable = true)\n",
      " |-- timestamp: timestamp (nullable = true)\n",
      " |-- timestampType: integer (nullable = true)\n",
      "\n"
     ]
    }
   ],
   "source": [
    "df = spark.readStream.format(\"kafka\") \\\n",
    "      .option(\"kafka.bootstrap.servers\", \"kafka:9092\") \\\n",
    "      .option(\"subscribe\", \"page_view_events\") \\\n",
    "      .load()\n",
    "\n",
    "df.printSchema()"
   ]
  },
  {
   "cell_type": "markdown",
   "id": "af345205",
   "metadata": {},
   "source": [
    "## Exercise 2\n",
    "By default the spark-sql-kafka returns the `key` and `value` fields as a binary.\n",
    "1. Cast both of them to `string`\n",
    "4. Create a query named `q1` with the outputMode set to `append` and format set to `memory`\n",
    "6. Define `StructType` that contains following fields: `ts: long`, `state: string`, `city: string`\n",
    "8. Create a DataFrame with the `ts`, `state` and `city` fields that are encoded in JSON inside `value` field."
   ]
  },
  {
   "cell_type": "code",
   "execution_count": 10,
   "id": "b80a7144",
   "metadata": {},
   "outputs": [],
   "source": [
    "df = df.selectExpr(\"CAST(key AS STRING)\", \"CAST(value AS STRING)\")\n",
    "df.printSchema()"
   ]
  },
  {
   "cell_type": "code",
   "execution_count": null,
   "id": "36dcb2ff",
   "metadata": {},
   "outputs": [],
   "source": [
    "query = df.writeStream.outputMode(\"append\").format(\"memory\").queryName(\"q1\").start()"
   ]
  },
  {
   "cell_type": "code",
   "execution_count": null,
   "id": "5472405e",
   "metadata": {},
   "outputs": [],
   "source": [
    "from pyspark.sql.types import StructType, StructField, StringType, LongType\n",
    "\n",
    "schema = StructType(\n",
    "    [\n",
    "        StructField(\"ts\", LongType(), True),\n",
    "        StructField(\"state\", StringType(), True),\n",
    "        StructField(\"city\", StringType(), True)\n",
    "    ]\n",
    ")"
   ]
  },
  {
   "cell_type": "code",
   "execution_count": 12,
   "id": "c148fa88",
   "metadata": {},
   "outputs": [
    {
     "ename": "IllegalArgumentException",
     "evalue": "Cannot start query with name q1 as a query with that name is already active in this SparkSession",
     "output_type": "error",
     "traceback": [
      "\u001b[0;31m---------------------------------------------------------------------------\u001b[0m",
      "\u001b[0;31mIllegalArgumentException\u001b[0m                  Traceback (most recent call last)",
      "Cell \u001b[0;32mIn[12], line 12\u001b[0m\n\u001b[1;32m      2\u001b[0m \u001b[38;5;28;01mfrom\u001b[39;00m \u001b[38;5;21;01mpyspark\u001b[39;00m\u001b[38;5;21;01m.\u001b[39;00m\u001b[38;5;21;01msql\u001b[39;00m\u001b[38;5;21;01m.\u001b[39;00m\u001b[38;5;21;01mtypes\u001b[39;00m \u001b[38;5;28;01mimport\u001b[39;00m StructType, StructField, StringType, LongType\n\u001b[1;32m      4\u001b[0m schema \u001b[38;5;241m=\u001b[39m StructType(\n\u001b[1;32m      5\u001b[0m     [\n\u001b[1;32m      6\u001b[0m         StructField(\u001b[38;5;124m\"\u001b[39m\u001b[38;5;124mts\u001b[39m\u001b[38;5;124m\"\u001b[39m, LongType(), \u001b[38;5;28;01mTrue\u001b[39;00m),\n\u001b[0;32m   (...)\u001b[0m\n\u001b[1;32m      9\u001b[0m     ]\n\u001b[1;32m     10\u001b[0m )\n\u001b[0;32m---> 12\u001b[0m query \u001b[38;5;241m=\u001b[39m \u001b[43mdf\u001b[49m\u001b[38;5;241;43m.\u001b[39;49m\u001b[43mwriteStream\u001b[49m\u001b[38;5;241;43m.\u001b[39;49m\u001b[43moutputMode\u001b[49m\u001b[43m(\u001b[49m\u001b[38;5;124;43m\"\u001b[39;49m\u001b[38;5;124;43mappend\u001b[39;49m\u001b[38;5;124;43m\"\u001b[39;49m\u001b[43m)\u001b[49m\u001b[38;5;241;43m.\u001b[39;49m\u001b[43mformat\u001b[49m\u001b[43m(\u001b[49m\u001b[38;5;124;43m\"\u001b[39;49m\u001b[38;5;124;43mmemory\u001b[39;49m\u001b[38;5;124;43m\"\u001b[39;49m\u001b[43m)\u001b[49m\u001b[38;5;241;43m.\u001b[39;49m\u001b[43mqueryName\u001b[49m\u001b[43m(\u001b[49m\u001b[38;5;124;43m\"\u001b[39;49m\u001b[38;5;124;43mq1\u001b[39;49m\u001b[38;5;124;43m\"\u001b[39;49m\u001b[43m)\u001b[49m\u001b[38;5;241;43m.\u001b[39;49m\u001b[43mstart\u001b[49m\u001b[43m(\u001b[49m\u001b[43m)\u001b[49m\n\u001b[1;32m     13\u001b[0m df \u001b[38;5;241m=\u001b[39m spark\u001b[38;5;241m.\u001b[39msql(\u001b[38;5;124m\"\u001b[39m\u001b[38;5;124mSELECT value FROM q1\u001b[39m\u001b[38;5;124m\"\u001b[39m) \\\n\u001b[1;32m     14\u001b[0m     \u001b[38;5;241m.\u001b[39mwithColumn(\u001b[38;5;124m\"\u001b[39m\u001b[38;5;124mvalue\u001b[39m\u001b[38;5;124m\"\u001b[39m, from_json(\u001b[38;5;124m\"\u001b[39m\u001b[38;5;124mvalue\u001b[39m\u001b[38;5;124m\"\u001b[39m, schema)) \\\n\u001b[1;32m     15\u001b[0m     \u001b[38;5;241m.\u001b[39mselect(col(\u001b[38;5;124m\"\u001b[39m\u001b[38;5;124mvalue.*\u001b[39m\u001b[38;5;124m\"\u001b[39m))\n",
      "File \u001b[0;32m/usr/local/spark/python/pyspark/sql/streaming.py:1389\u001b[0m, in \u001b[0;36mDataStreamWriter.start\u001b[0;34m(self, path, format, outputMode, partitionBy, queryName, **options)\u001b[0m\n\u001b[1;32m   1387\u001b[0m     \u001b[38;5;28mself\u001b[39m\u001b[38;5;241m.\u001b[39mqueryName(queryName)\n\u001b[1;32m   1388\u001b[0m \u001b[38;5;28;01mif\u001b[39;00m path \u001b[38;5;129;01mis\u001b[39;00m \u001b[38;5;28;01mNone\u001b[39;00m:\n\u001b[0;32m-> 1389\u001b[0m     \u001b[38;5;28;01mreturn\u001b[39;00m \u001b[38;5;28mself\u001b[39m\u001b[38;5;241m.\u001b[39m_sq(\u001b[38;5;28;43mself\u001b[39;49m\u001b[38;5;241;43m.\u001b[39;49m\u001b[43m_jwrite\u001b[49m\u001b[38;5;241;43m.\u001b[39;49m\u001b[43mstart\u001b[49m\u001b[43m(\u001b[49m\u001b[43m)\u001b[49m)\n\u001b[1;32m   1390\u001b[0m \u001b[38;5;28;01melse\u001b[39;00m:\n\u001b[1;32m   1391\u001b[0m     \u001b[38;5;28;01mreturn\u001b[39;00m \u001b[38;5;28mself\u001b[39m\u001b[38;5;241m.\u001b[39m_sq(\u001b[38;5;28mself\u001b[39m\u001b[38;5;241m.\u001b[39m_jwrite\u001b[38;5;241m.\u001b[39mstart(path))\n",
      "File \u001b[0;32m/usr/local/spark/python/lib/py4j-0.10.9.5-src.zip/py4j/java_gateway.py:1321\u001b[0m, in \u001b[0;36mJavaMember.__call__\u001b[0;34m(self, *args)\u001b[0m\n\u001b[1;32m   1315\u001b[0m command \u001b[38;5;241m=\u001b[39m proto\u001b[38;5;241m.\u001b[39mCALL_COMMAND_NAME \u001b[38;5;241m+\u001b[39m\\\n\u001b[1;32m   1316\u001b[0m     \u001b[38;5;28mself\u001b[39m\u001b[38;5;241m.\u001b[39mcommand_header \u001b[38;5;241m+\u001b[39m\\\n\u001b[1;32m   1317\u001b[0m     args_command \u001b[38;5;241m+\u001b[39m\\\n\u001b[1;32m   1318\u001b[0m     proto\u001b[38;5;241m.\u001b[39mEND_COMMAND_PART\n\u001b[1;32m   1320\u001b[0m answer \u001b[38;5;241m=\u001b[39m \u001b[38;5;28mself\u001b[39m\u001b[38;5;241m.\u001b[39mgateway_client\u001b[38;5;241m.\u001b[39msend_command(command)\n\u001b[0;32m-> 1321\u001b[0m return_value \u001b[38;5;241m=\u001b[39m \u001b[43mget_return_value\u001b[49m\u001b[43m(\u001b[49m\n\u001b[1;32m   1322\u001b[0m \u001b[43m    \u001b[49m\u001b[43manswer\u001b[49m\u001b[43m,\u001b[49m\u001b[43m \u001b[49m\u001b[38;5;28;43mself\u001b[39;49m\u001b[38;5;241;43m.\u001b[39;49m\u001b[43mgateway_client\u001b[49m\u001b[43m,\u001b[49m\u001b[43m \u001b[49m\u001b[38;5;28;43mself\u001b[39;49m\u001b[38;5;241;43m.\u001b[39;49m\u001b[43mtarget_id\u001b[49m\u001b[43m,\u001b[49m\u001b[43m \u001b[49m\u001b[38;5;28;43mself\u001b[39;49m\u001b[38;5;241;43m.\u001b[39;49m\u001b[43mname\u001b[49m\u001b[43m)\u001b[49m\n\u001b[1;32m   1324\u001b[0m \u001b[38;5;28;01mfor\u001b[39;00m temp_arg \u001b[38;5;129;01min\u001b[39;00m temp_args:\n\u001b[1;32m   1325\u001b[0m     temp_arg\u001b[38;5;241m.\u001b[39m_detach()\n",
      "File \u001b[0;32m/usr/local/spark/python/pyspark/sql/utils.py:196\u001b[0m, in \u001b[0;36mcapture_sql_exception.<locals>.deco\u001b[0;34m(*a, **kw)\u001b[0m\n\u001b[1;32m    192\u001b[0m converted \u001b[38;5;241m=\u001b[39m convert_exception(e\u001b[38;5;241m.\u001b[39mjava_exception)\n\u001b[1;32m    193\u001b[0m \u001b[38;5;28;01mif\u001b[39;00m \u001b[38;5;129;01mnot\u001b[39;00m \u001b[38;5;28misinstance\u001b[39m(converted, UnknownException):\n\u001b[1;32m    194\u001b[0m     \u001b[38;5;66;03m# Hide where the exception came from that shows a non-Pythonic\u001b[39;00m\n\u001b[1;32m    195\u001b[0m     \u001b[38;5;66;03m# JVM exception message.\u001b[39;00m\n\u001b[0;32m--> 196\u001b[0m     \u001b[38;5;28;01mraise\u001b[39;00m converted \u001b[38;5;28;01mfrom\u001b[39;00m \u001b[38;5;28mNone\u001b[39m\n\u001b[1;32m    197\u001b[0m \u001b[38;5;28;01melse\u001b[39;00m:\n\u001b[1;32m    198\u001b[0m     \u001b[38;5;28;01mraise\u001b[39;00m\n",
      "\u001b[0;31mIllegalArgumentException\u001b[0m: Cannot start query with name q1 as a query with that name is already active in this SparkSession"
     ]
    }
   ],
   "source": [
    "from pyspark.sql.functions import col, from_json\n",
    "\n",
    "df = spark.sql(\"SELECT value FROM q1\") \\\n",
    "    .withColumn(\"value\", from_json(\"value\", schema)) \\\n",
    "    .select(col(\"value.*\"))"
   ]
  },
  {
   "cell_type": "markdown",
   "id": "b75a030a",
   "metadata": {},
   "source": [
    "## Exercise 3\n",
    "\n",
    "Print the count of the events in each state sorted by the count every 10 seconds. Restart the kafka instance and find a place where the pyspark has reconnected with the kafka."
   ]
  },
  {
   "cell_type": "code",
   "execution_count": 6,
   "id": "ba489afd",
   "metadata": {
    "scrolled": false
   },
   "outputs": [
    {
     "data": {
      "text/plain": [
       "{'message': 'Getting offsets from KafkaV2[Subscribe[page_view_events]]',\n",
       " 'isDataAvailable': False,\n",
       " 'isTriggerActive': True}"
      ]
     },
     "metadata": {},
     "output_type": "display_data"
    },
    {
     "name": "stdout",
     "output_type": "stream",
     "text": [
      "+-----+-----+\n",
      "|state|count|\n",
      "+-----+-----+\n",
      "+-----+-----+\n",
      "\n"
     ]
    },
    {
     "data": {
      "text/plain": [
       "None"
      ]
     },
     "metadata": {},
     "output_type": "display_data"
    },
    {
     "data": {
      "text/plain": [
       "{'message': 'Waiting for data to arrive',\n",
       " 'isDataAvailable': False,\n",
       " 'isTriggerActive': False}"
      ]
     },
     "metadata": {},
     "output_type": "display_data"
    },
    {
     "name": "stdout",
     "output_type": "stream",
     "text": [
      "+-----+-----+\n",
      "|state|count|\n",
      "+-----+-----+\n",
      "|   KY|    1|\n",
      "|   IL|    1|\n",
      "+-----+-----+\n",
      "\n"
     ]
    },
    {
     "data": {
      "text/plain": [
       "None"
      ]
     },
     "metadata": {},
     "output_type": "display_data"
    },
    {
     "data": {
      "text/plain": [
       "{'message': 'Processing new data',\n",
       " 'isDataAvailable': True,\n",
       " 'isTriggerActive': True}"
      ]
     },
     "metadata": {},
     "output_type": "display_data"
    },
    {
     "name": "stdout",
     "output_type": "stream",
     "text": [
      "+-----+-----+\n",
      "|state|count|\n",
      "+-----+-----+\n",
      "|   KY|    1|\n",
      "|   IL|    1|\n",
      "|   AL|    1|\n",
      "|   CA|    1|\n",
      "|   AZ|    1|\n",
      "|   NY|    1|\n",
      "+-----+-----+\n",
      "\n"
     ]
    },
    {
     "data": {
      "text/plain": [
       "None"
      ]
     },
     "metadata": {},
     "output_type": "display_data"
    },
    {
     "data": {
      "text/plain": [
       "{'message': 'Waiting for data to arrive',\n",
       " 'isDataAvailable': False,\n",
       " 'isTriggerActive': False}"
      ]
     },
     "metadata": {},
     "output_type": "display_data"
    },
    {
     "name": "stdout",
     "output_type": "stream",
     "text": [
      "+-----+-----+\n",
      "|state|count|\n",
      "+-----+-----+\n",
      "|   CA|    3|\n",
      "|   NY|    3|\n",
      "|   NC|    2|\n",
      "|   KY|    1|\n",
      "|   IL|    1|\n",
      "|   AL|    1|\n",
      "|   NM|    1|\n",
      "|   AZ|    1|\n",
      "|   WI|    1|\n",
      "+-----+-----+\n",
      "\n"
     ]
    },
    {
     "data": {
      "text/plain": [
       "None"
      ]
     },
     "metadata": {},
     "output_type": "display_data"
    },
    {
     "data": {
      "text/plain": [
       "{'message': 'Waiting for data to arrive',\n",
       " 'isDataAvailable': False,\n",
       " 'isTriggerActive': False}"
      ]
     },
     "metadata": {},
     "output_type": "display_data"
    },
    {
     "name": "stdout",
     "output_type": "stream",
     "text": [
      "+-----+-----+\n",
      "|state|count|\n",
      "+-----+-----+\n",
      "|   CA|    4|\n",
      "|   NY|    4|\n",
      "|   NC|    2|\n",
      "|   WI|    2|\n",
      "|   GA|    2|\n",
      "|   KY|    1|\n",
      "|   AL|    1|\n",
      "|   IL|    1|\n",
      "|   AZ|    1|\n",
      "|   NM|    1|\n",
      "|   MI|    1|\n",
      "+-----+-----+\n",
      "\n"
     ]
    },
    {
     "data": {
      "text/plain": [
       "None"
      ]
     },
     "metadata": {},
     "output_type": "display_data"
    },
    {
     "data": {
      "text/plain": [
       "{'message': 'Processing new data',\n",
       " 'isDataAvailable': True,\n",
       " 'isTriggerActive': True}"
      ]
     },
     "metadata": {},
     "output_type": "display_data"
    },
    {
     "name": "stdout",
     "output_type": "stream",
     "text": [
      "+-----+-----+\n",
      "|state|count|\n",
      "+-----+-----+\n",
      "|   CA|    4|\n",
      "|   NY|    4|\n",
      "|   NC|    2|\n",
      "|   WI|    2|\n",
      "|   GA|    2|\n",
      "|   KY|    1|\n",
      "|   AL|    1|\n",
      "|   IL|    1|\n",
      "|   AZ|    1|\n",
      "|   NM|    1|\n",
      "|   MI|    1|\n",
      "+-----+-----+\n",
      "\n"
     ]
    },
    {
     "data": {
      "text/plain": [
       "None"
      ]
     },
     "metadata": {},
     "output_type": "display_data"
    },
    {
     "data": {
      "text/plain": [
       "{'message': 'Processing new data',\n",
       " 'isDataAvailable': True,\n",
       " 'isTriggerActive': True}"
      ]
     },
     "metadata": {},
     "output_type": "display_data"
    },
    {
     "name": "stdout",
     "output_type": "stream",
     "text": [
      "+-----+-----+\n",
      "|state|count|\n",
      "+-----+-----+\n",
      "|   CA|    4|\n",
      "|   NY|    4|\n",
      "|   NC|    2|\n",
      "|   WI|    2|\n",
      "|   GA|    2|\n",
      "|   KY|    1|\n",
      "|   AL|    1|\n",
      "|   IL|    1|\n",
      "|   AZ|    1|\n",
      "|   NM|    1|\n",
      "|   MI|    1|\n",
      "+-----+-----+\n",
      "\n"
     ]
    },
    {
     "data": {
      "text/plain": [
       "None"
      ]
     },
     "metadata": {},
     "output_type": "display_data"
    },
    {
     "data": {
      "text/plain": [
       "{'message': 'Processing new data',\n",
       " 'isDataAvailable': True,\n",
       " 'isTriggerActive': True}"
      ]
     },
     "metadata": {},
     "output_type": "display_data"
    },
    {
     "name": "stdout",
     "output_type": "stream",
     "text": [
      "+-----+-----+\n",
      "|state|count|\n",
      "+-----+-----+\n",
      "|   CA|    4|\n",
      "|   NY|    4|\n",
      "|   NC|    2|\n",
      "|   WI|    2|\n",
      "|   GA|    2|\n",
      "|   KY|    1|\n",
      "|   AL|    1|\n",
      "|   IL|    1|\n",
      "|   AZ|    1|\n",
      "|   NM|    1|\n",
      "|   MI|    1|\n",
      "+-----+-----+\n",
      "\n"
     ]
    },
    {
     "data": {
      "text/plain": [
       "None"
      ]
     },
     "metadata": {},
     "output_type": "display_data"
    },
    {
     "data": {
      "text/plain": [
       "{'message': 'Waiting for data to arrive',\n",
       " 'isDataAvailable': False,\n",
       " 'isTriggerActive': False}"
      ]
     },
     "metadata": {},
     "output_type": "display_data"
    },
    {
     "name": "stdout",
     "output_type": "stream",
     "text": [
      "+-----+-----+\n",
      "|state|count|\n",
      "+-----+-----+\n",
      "|   CA|    7|\n",
      "|   NY|    5|\n",
      "|   WI|    4|\n",
      "|   TX|    3|\n",
      "|   NC|    2|\n",
      "|   GA|    2|\n",
      "|   PA|    2|\n",
      "|   FL|    2|\n",
      "|   MI|    2|\n",
      "|   AZ|    2|\n",
      "|   VA|    2|\n",
      "|   MO|    2|\n",
      "|   KY|    1|\n",
      "|   NM|    1|\n",
      "|   IL|    1|\n",
      "|   NV|    1|\n",
      "|   MD|    1|\n",
      "|   AL|    1|\n",
      "|   IN|    1|\n",
      "|   KS|    1|\n",
      "+-----+-----+\n",
      "only showing top 20 rows\n",
      "\n"
     ]
    },
    {
     "data": {
      "text/plain": [
       "None"
      ]
     },
     "metadata": {},
     "output_type": "display_data"
    },
    {
     "data": {
      "text/plain": [
       "{'message': 'Processing new data',\n",
       " 'isDataAvailable': True,\n",
       " 'isTriggerActive': True}"
      ]
     },
     "metadata": {},
     "output_type": "display_data"
    },
    {
     "name": "stdout",
     "output_type": "stream",
     "text": [
      "+-----+-----+\n",
      "|state|count|\n",
      "+-----+-----+\n",
      "|   CA|    7|\n",
      "|   NY|    5|\n",
      "|   WI|    4|\n",
      "|   TX|    3|\n",
      "|   PA|    2|\n",
      "|   AZ|    2|\n",
      "|   MI|    2|\n",
      "|   MO|    2|\n",
      "|   FL|    2|\n",
      "|   AL|    2|\n",
      "|   NC|    2|\n",
      "|   GA|    2|\n",
      "|   VA|    2|\n",
      "|   KY|    1|\n",
      "|   NM|    1|\n",
      "|   IL|    1|\n",
      "|   IN|    1|\n",
      "|   HI|    1|\n",
      "|   NV|    1|\n",
      "|   LA|    1|\n",
      "+-----+-----+\n",
      "only showing top 20 rows\n",
      "\n"
     ]
    },
    {
     "data": {
      "text/plain": [
       "None"
      ]
     },
     "metadata": {},
     "output_type": "display_data"
    },
    {
     "data": {
      "text/plain": [
       "{'message': 'Waiting for data to arrive',\n",
       " 'isDataAvailable': False,\n",
       " 'isTriggerActive': False}"
      ]
     },
     "metadata": {},
     "output_type": "display_data"
    },
    {
     "name": "stdout",
     "output_type": "stream",
     "text": [
      "+-----+-----+\n",
      "|state|count|\n",
      "+-----+-----+\n",
      "|   CA|    7|\n",
      "|   NY|    5|\n",
      "|   WI|    4|\n",
      "|   NC|    3|\n",
      "|   VA|    3|\n",
      "|   MI|    3|\n",
      "|   AL|    3|\n",
      "|   TX|    3|\n",
      "|   MO|    2|\n",
      "|   GA|    2|\n",
      "|   FL|    2|\n",
      "|   KY|    2|\n",
      "|   PA|    2|\n",
      "|   AZ|    2|\n",
      "|   IL|    2|\n",
      "|   NM|    1|\n",
      "|   IN|    1|\n",
      "|   NV|    1|\n",
      "|   KS|    1|\n",
      "|   MD|    1|\n",
      "+-----+-----+\n",
      "only showing top 20 rows\n",
      "\n"
     ]
    },
    {
     "data": {
      "text/plain": [
       "None"
      ]
     },
     "metadata": {},
     "output_type": "display_data"
    },
    {
     "data": {
      "text/plain": [
       "{'message': 'Getting offsets from KafkaV2[Subscribe[page_view_events]]',\n",
       " 'isDataAvailable': False,\n",
       " 'isTriggerActive': True}"
      ]
     },
     "metadata": {},
     "output_type": "display_data"
    },
    {
     "name": "stdout",
     "output_type": "stream",
     "text": [
      "+-----+-----+\n",
      "|state|count|\n",
      "+-----+-----+\n",
      "|   CA|    7|\n",
      "|   NY|    5|\n",
      "|   WI|    4|\n",
      "|   NC|    4|\n",
      "|   KY|    3|\n",
      "|   FL|    3|\n",
      "|   AL|    3|\n",
      "|   VA|    3|\n",
      "|   TX|    3|\n",
      "|   MI|    3|\n",
      "|   IL|    2|\n",
      "|   MO|    2|\n",
      "|   GA|    2|\n",
      "|   PA|    2|\n",
      "|   AZ|    2|\n",
      "|   NM|    1|\n",
      "|   IN|    1|\n",
      "|   NV|    1|\n",
      "|   KS|    1|\n",
      "|   MD|    1|\n",
      "+-----+-----+\n",
      "only showing top 20 rows\n",
      "\n"
     ]
    },
    {
     "data": {
      "text/plain": [
       "None"
      ]
     },
     "metadata": {},
     "output_type": "display_data"
    },
    {
     "data": {
      "text/plain": [
       "{'message': 'Waiting for data to arrive',\n",
       " 'isDataAvailable': False,\n",
       " 'isTriggerActive': False}"
      ]
     },
     "metadata": {},
     "output_type": "display_data"
    },
    {
     "name": "stdout",
     "output_type": "stream",
     "text": [
      "+-----+-----+\n",
      "|state|count|\n",
      "+-----+-----+\n",
      "|   CA|    7|\n",
      "|   NY|    6|\n",
      "|   WI|    4|\n",
      "|   NC|    4|\n",
      "|   KY|    3|\n",
      "|   MI|    3|\n",
      "|   PA|    3|\n",
      "|   AL|    3|\n",
      "|   VA|    3|\n",
      "|   TX|    3|\n",
      "|   FL|    3|\n",
      "|   IL|    2|\n",
      "|   MO|    2|\n",
      "|   GA|    2|\n",
      "|   AZ|    2|\n",
      "|   NM|    1|\n",
      "|   IN|    1|\n",
      "|   NV|    1|\n",
      "|   KS|    1|\n",
      "|   MD|    1|\n",
      "+-----+-----+\n",
      "only showing top 20 rows\n",
      "\n"
     ]
    },
    {
     "data": {
      "text/plain": [
       "None"
      ]
     },
     "metadata": {},
     "output_type": "display_data"
    },
    {
     "ename": "KeyboardInterrupt",
     "evalue": "",
     "output_type": "error",
     "traceback": [
      "\u001b[0;31m---------------------------------------------------------------------------\u001b[0m",
      "\u001b[0;31mKeyboardInterrupt\u001b[0m                         Traceback (most recent call last)",
      "Cell \u001b[0;32mIn[6], line 8\u001b[0m\n\u001b[1;32m      6\u001b[0m display(query\u001b[38;5;241m.\u001b[39mstatus)\n\u001b[1;32m      7\u001b[0m display(df\u001b[38;5;241m.\u001b[39mgroupBy(\u001b[38;5;124m\"\u001b[39m\u001b[38;5;124mstate\u001b[39m\u001b[38;5;124m\"\u001b[39m)\u001b[38;5;241m.\u001b[39mcount()\u001b[38;5;241m.\u001b[39msort(col(\u001b[38;5;124m\"\u001b[39m\u001b[38;5;124mcount\u001b[39m\u001b[38;5;124m\"\u001b[39m)\u001b[38;5;241m.\u001b[39mdesc())\u001b[38;5;241m.\u001b[39mshow())\n\u001b[0;32m----> 8\u001b[0m \u001b[43msleep\u001b[49m\u001b[43m(\u001b[49m\u001b[38;5;241;43m10\u001b[39;49m\u001b[43m)\u001b[49m\n",
      "\u001b[0;31mKeyboardInterrupt\u001b[0m: "
     ]
    }
   ],
   "source": [
    "from IPython.display import display, clear_output\n",
    "from time import sleep\n",
    "\n",
    "while True:\n",
    "    # clear_output(wait=True)\n",
    "    display(query.status)\n",
    "    display(df.groupBy(\"state\").count().sort(col(\"count\").desc()).show())\n",
    "    display(df.count())\n",
    "    sleep(10)"
   ]
  },
  {
   "cell_type": "markdown",
   "id": "bd90bdef",
   "metadata": {},
   "source": [
    "# Exercise 4\n",
    "\n",
    "Create a expression that groups the events into 10 seconds time windows. Print the last few rows, restart the kafka and show that no data was lost."
   ]
  },
  {
   "cell_type": "code",
   "execution_count": 7,
   "id": "912f6f4f",
   "metadata": {},
   "outputs": [
    {
     "data": {
      "text/html": [
       "<div>\n",
       "<style scoped>\n",
       "    .dataframe tbody tr th:only-of-type {\n",
       "        vertical-align: middle;\n",
       "    }\n",
       "\n",
       "    .dataframe tbody tr th {\n",
       "        vertical-align: top;\n",
       "    }\n",
       "\n",
       "    .dataframe thead th {\n",
       "        text-align: right;\n",
       "    }\n",
       "</style>\n",
       "<table border=\"1\" class=\"dataframe\">\n",
       "  <thead>\n",
       "    <tr style=\"text-align: right;\">\n",
       "      <th></th>\n",
       "      <th>0</th>\n",
       "      <th>1</th>\n",
       "    </tr>\n",
       "  </thead>\n",
       "  <tbody>\n",
       "    <tr>\n",
       "      <th>0</th>\n",
       "      <td>(2023-01-17 08:15:50, 2023-01-17 08:16:00)</td>\n",
       "      <td>3</td>\n",
       "    </tr>\n",
       "    <tr>\n",
       "      <th>1</th>\n",
       "      <td>(2023-01-17 08:16:00, 2023-01-17 08:16:10)</td>\n",
       "      <td>3</td>\n",
       "    </tr>\n",
       "    <tr>\n",
       "      <th>2</th>\n",
       "      <td>(2023-01-17 08:16:10, 2023-01-17 08:16:20)</td>\n",
       "      <td>7</td>\n",
       "    </tr>\n",
       "    <tr>\n",
       "      <th>3</th>\n",
       "      <td>(2023-01-17 08:16:20, 2023-01-17 08:16:30)</td>\n",
       "      <td>7</td>\n",
       "    </tr>\n",
       "    <tr>\n",
       "      <th>4</th>\n",
       "      <td>(2023-01-17 08:16:30, 2023-01-17 08:16:40)</td>\n",
       "      <td>6</td>\n",
       "    </tr>\n",
       "    <tr>\n",
       "      <th>5</th>\n",
       "      <td>(2023-01-17 08:16:40, 2023-01-17 08:16:50)</td>\n",
       "      <td>4</td>\n",
       "    </tr>\n",
       "    <tr>\n",
       "      <th>6</th>\n",
       "      <td>(2023-01-17 08:16:50, 2023-01-17 08:17:00)</td>\n",
       "      <td>6</td>\n",
       "    </tr>\n",
       "    <tr>\n",
       "      <th>7</th>\n",
       "      <td>(2023-01-17 08:17:00, 2023-01-17 08:17:10)</td>\n",
       "      <td>7</td>\n",
       "    </tr>\n",
       "    <tr>\n",
       "      <th>8</th>\n",
       "      <td>(2023-01-17 08:17:10, 2023-01-17 08:17:20)</td>\n",
       "      <td>5</td>\n",
       "    </tr>\n",
       "    <tr>\n",
       "      <th>9</th>\n",
       "      <td>(2023-01-17 08:17:20, 2023-01-17 08:17:30)</td>\n",
       "      <td>4</td>\n",
       "    </tr>\n",
       "    <tr>\n",
       "      <th>10</th>\n",
       "      <td>(2023-01-17 08:17:30, 2023-01-17 08:17:40)</td>\n",
       "      <td>4</td>\n",
       "    </tr>\n",
       "    <tr>\n",
       "      <th>11</th>\n",
       "      <td>(2023-01-17 08:17:40, 2023-01-17 08:17:50)</td>\n",
       "      <td>3</td>\n",
       "    </tr>\n",
       "    <tr>\n",
       "      <th>12</th>\n",
       "      <td>(2023-01-17 08:17:50, 2023-01-17 08:18:00)</td>\n",
       "      <td>5</td>\n",
       "    </tr>\n",
       "    <tr>\n",
       "      <th>13</th>\n",
       "      <td>(2023-01-17 08:18:00, 2023-01-17 08:18:10)</td>\n",
       "      <td>2</td>\n",
       "    </tr>\n",
       "  </tbody>\n",
       "</table>\n",
       "</div>"
      ],
      "text/plain": [
       "                                             0  1\n",
       "0   (2023-01-17 08:15:50, 2023-01-17 08:16:00)  3\n",
       "1   (2023-01-17 08:16:00, 2023-01-17 08:16:10)  3\n",
       "2   (2023-01-17 08:16:10, 2023-01-17 08:16:20)  7\n",
       "3   (2023-01-17 08:16:20, 2023-01-17 08:16:30)  7\n",
       "4   (2023-01-17 08:16:30, 2023-01-17 08:16:40)  6\n",
       "5   (2023-01-17 08:16:40, 2023-01-17 08:16:50)  4\n",
       "6   (2023-01-17 08:16:50, 2023-01-17 08:17:00)  6\n",
       "7   (2023-01-17 08:17:00, 2023-01-17 08:17:10)  7\n",
       "8   (2023-01-17 08:17:10, 2023-01-17 08:17:20)  5\n",
       "9   (2023-01-17 08:17:20, 2023-01-17 08:17:30)  4\n",
       "10  (2023-01-17 08:17:30, 2023-01-17 08:17:40)  4\n",
       "11  (2023-01-17 08:17:40, 2023-01-17 08:17:50)  3\n",
       "12  (2023-01-17 08:17:50, 2023-01-17 08:18:00)  5\n",
       "13  (2023-01-17 08:18:00, 2023-01-17 08:18:10)  2"
      ]
     },
     "metadata": {},
     "output_type": "display_data"
    },
    {
     "data": {
      "text/html": [
       "<div>\n",
       "<style scoped>\n",
       "    .dataframe tbody tr th:only-of-type {\n",
       "        vertical-align: middle;\n",
       "    }\n",
       "\n",
       "    .dataframe tbody tr th {\n",
       "        vertical-align: top;\n",
       "    }\n",
       "\n",
       "    .dataframe thead th {\n",
       "        text-align: right;\n",
       "    }\n",
       "</style>\n",
       "<table border=\"1\" class=\"dataframe\">\n",
       "  <thead>\n",
       "    <tr style=\"text-align: right;\">\n",
       "      <th></th>\n",
       "      <th>0</th>\n",
       "      <th>1</th>\n",
       "    </tr>\n",
       "  </thead>\n",
       "  <tbody>\n",
       "    <tr>\n",
       "      <th>0</th>\n",
       "      <td>(2023-01-17 08:15:50, 2023-01-17 08:16:00)</td>\n",
       "      <td>3</td>\n",
       "    </tr>\n",
       "    <tr>\n",
       "      <th>1</th>\n",
       "      <td>(2023-01-17 08:16:00, 2023-01-17 08:16:10)</td>\n",
       "      <td>3</td>\n",
       "    </tr>\n",
       "    <tr>\n",
       "      <th>2</th>\n",
       "      <td>(2023-01-17 08:16:10, 2023-01-17 08:16:20)</td>\n",
       "      <td>7</td>\n",
       "    </tr>\n",
       "    <tr>\n",
       "      <th>3</th>\n",
       "      <td>(2023-01-17 08:16:20, 2023-01-17 08:16:30)</td>\n",
       "      <td>7</td>\n",
       "    </tr>\n",
       "    <tr>\n",
       "      <th>4</th>\n",
       "      <td>(2023-01-17 08:16:30, 2023-01-17 08:16:40)</td>\n",
       "      <td>6</td>\n",
       "    </tr>\n",
       "    <tr>\n",
       "      <th>5</th>\n",
       "      <td>(2023-01-17 08:16:40, 2023-01-17 08:16:50)</td>\n",
       "      <td>4</td>\n",
       "    </tr>\n",
       "    <tr>\n",
       "      <th>6</th>\n",
       "      <td>(2023-01-17 08:16:50, 2023-01-17 08:17:00)</td>\n",
       "      <td>6</td>\n",
       "    </tr>\n",
       "    <tr>\n",
       "      <th>7</th>\n",
       "      <td>(2023-01-17 08:17:00, 2023-01-17 08:17:10)</td>\n",
       "      <td>7</td>\n",
       "    </tr>\n",
       "    <tr>\n",
       "      <th>8</th>\n",
       "      <td>(2023-01-17 08:17:10, 2023-01-17 08:17:20)</td>\n",
       "      <td>5</td>\n",
       "    </tr>\n",
       "    <tr>\n",
       "      <th>9</th>\n",
       "      <td>(2023-01-17 08:17:20, 2023-01-17 08:17:30)</td>\n",
       "      <td>4</td>\n",
       "    </tr>\n",
       "    <tr>\n",
       "      <th>10</th>\n",
       "      <td>(2023-01-17 08:17:30, 2023-01-17 08:17:40)</td>\n",
       "      <td>4</td>\n",
       "    </tr>\n",
       "    <tr>\n",
       "      <th>11</th>\n",
       "      <td>(2023-01-17 08:17:40, 2023-01-17 08:17:50)</td>\n",
       "      <td>3</td>\n",
       "    </tr>\n",
       "    <tr>\n",
       "      <th>12</th>\n",
       "      <td>(2023-01-17 08:17:50, 2023-01-17 08:18:00)</td>\n",
       "      <td>5</td>\n",
       "    </tr>\n",
       "    <tr>\n",
       "      <th>13</th>\n",
       "      <td>(2023-01-17 08:18:00, 2023-01-17 08:18:10)</td>\n",
       "      <td>6</td>\n",
       "    </tr>\n",
       "    <tr>\n",
       "      <th>14</th>\n",
       "      <td>(2023-01-17 08:18:10, 2023-01-17 08:18:20)</td>\n",
       "      <td>4</td>\n",
       "    </tr>\n",
       "  </tbody>\n",
       "</table>\n",
       "</div>"
      ],
      "text/plain": [
       "                                             0  1\n",
       "0   (2023-01-17 08:15:50, 2023-01-17 08:16:00)  3\n",
       "1   (2023-01-17 08:16:00, 2023-01-17 08:16:10)  3\n",
       "2   (2023-01-17 08:16:10, 2023-01-17 08:16:20)  7\n",
       "3   (2023-01-17 08:16:20, 2023-01-17 08:16:30)  7\n",
       "4   (2023-01-17 08:16:30, 2023-01-17 08:16:40)  6\n",
       "5   (2023-01-17 08:16:40, 2023-01-17 08:16:50)  4\n",
       "6   (2023-01-17 08:16:50, 2023-01-17 08:17:00)  6\n",
       "7   (2023-01-17 08:17:00, 2023-01-17 08:17:10)  7\n",
       "8   (2023-01-17 08:17:10, 2023-01-17 08:17:20)  5\n",
       "9   (2023-01-17 08:17:20, 2023-01-17 08:17:30)  4\n",
       "10  (2023-01-17 08:17:30, 2023-01-17 08:17:40)  4\n",
       "11  (2023-01-17 08:17:40, 2023-01-17 08:17:50)  3\n",
       "12  (2023-01-17 08:17:50, 2023-01-17 08:18:00)  5\n",
       "13  (2023-01-17 08:18:00, 2023-01-17 08:18:10)  6\n",
       "14  (2023-01-17 08:18:10, 2023-01-17 08:18:20)  4"
      ]
     },
     "metadata": {},
     "output_type": "display_data"
    },
    {
     "data": {
      "text/html": [
       "<div>\n",
       "<style scoped>\n",
       "    .dataframe tbody tr th:only-of-type {\n",
       "        vertical-align: middle;\n",
       "    }\n",
       "\n",
       "    .dataframe tbody tr th {\n",
       "        vertical-align: top;\n",
       "    }\n",
       "\n",
       "    .dataframe thead th {\n",
       "        text-align: right;\n",
       "    }\n",
       "</style>\n",
       "<table border=\"1\" class=\"dataframe\">\n",
       "  <thead>\n",
       "    <tr style=\"text-align: right;\">\n",
       "      <th></th>\n",
       "      <th>0</th>\n",
       "      <th>1</th>\n",
       "    </tr>\n",
       "  </thead>\n",
       "  <tbody>\n",
       "    <tr>\n",
       "      <th>0</th>\n",
       "      <td>(2023-01-17 08:16:00, 2023-01-17 08:16:10)</td>\n",
       "      <td>3</td>\n",
       "    </tr>\n",
       "    <tr>\n",
       "      <th>1</th>\n",
       "      <td>(2023-01-17 08:16:10, 2023-01-17 08:16:20)</td>\n",
       "      <td>7</td>\n",
       "    </tr>\n",
       "    <tr>\n",
       "      <th>2</th>\n",
       "      <td>(2023-01-17 08:16:20, 2023-01-17 08:16:30)</td>\n",
       "      <td>7</td>\n",
       "    </tr>\n",
       "    <tr>\n",
       "      <th>3</th>\n",
       "      <td>(2023-01-17 08:16:30, 2023-01-17 08:16:40)</td>\n",
       "      <td>6</td>\n",
       "    </tr>\n",
       "    <tr>\n",
       "      <th>4</th>\n",
       "      <td>(2023-01-17 08:16:40, 2023-01-17 08:16:50)</td>\n",
       "      <td>4</td>\n",
       "    </tr>\n",
       "    <tr>\n",
       "      <th>5</th>\n",
       "      <td>(2023-01-17 08:16:50, 2023-01-17 08:17:00)</td>\n",
       "      <td>6</td>\n",
       "    </tr>\n",
       "    <tr>\n",
       "      <th>6</th>\n",
       "      <td>(2023-01-17 08:17:00, 2023-01-17 08:17:10)</td>\n",
       "      <td>7</td>\n",
       "    </tr>\n",
       "    <tr>\n",
       "      <th>7</th>\n",
       "      <td>(2023-01-17 08:17:10, 2023-01-17 08:17:20)</td>\n",
       "      <td>5</td>\n",
       "    </tr>\n",
       "    <tr>\n",
       "      <th>8</th>\n",
       "      <td>(2023-01-17 08:17:20, 2023-01-17 08:17:30)</td>\n",
       "      <td>4</td>\n",
       "    </tr>\n",
       "    <tr>\n",
       "      <th>9</th>\n",
       "      <td>(2023-01-17 08:17:30, 2023-01-17 08:17:40)</td>\n",
       "      <td>4</td>\n",
       "    </tr>\n",
       "    <tr>\n",
       "      <th>10</th>\n",
       "      <td>(2023-01-17 08:17:40, 2023-01-17 08:17:50)</td>\n",
       "      <td>3</td>\n",
       "    </tr>\n",
       "    <tr>\n",
       "      <th>11</th>\n",
       "      <td>(2023-01-17 08:17:50, 2023-01-17 08:18:00)</td>\n",
       "      <td>5</td>\n",
       "    </tr>\n",
       "    <tr>\n",
       "      <th>12</th>\n",
       "      <td>(2023-01-17 08:18:00, 2023-01-17 08:18:10)</td>\n",
       "      <td>6</td>\n",
       "    </tr>\n",
       "    <tr>\n",
       "      <th>13</th>\n",
       "      <td>(2023-01-17 08:18:10, 2023-01-17 08:18:20)</td>\n",
       "      <td>8</td>\n",
       "    </tr>\n",
       "    <tr>\n",
       "      <th>14</th>\n",
       "      <td>(2023-01-17 08:18:20, 2023-01-17 08:18:30)</td>\n",
       "      <td>2</td>\n",
       "    </tr>\n",
       "  </tbody>\n",
       "</table>\n",
       "</div>"
      ],
      "text/plain": [
       "                                             0  1\n",
       "0   (2023-01-17 08:16:00, 2023-01-17 08:16:10)  3\n",
       "1   (2023-01-17 08:16:10, 2023-01-17 08:16:20)  7\n",
       "2   (2023-01-17 08:16:20, 2023-01-17 08:16:30)  7\n",
       "3   (2023-01-17 08:16:30, 2023-01-17 08:16:40)  6\n",
       "4   (2023-01-17 08:16:40, 2023-01-17 08:16:50)  4\n",
       "5   (2023-01-17 08:16:50, 2023-01-17 08:17:00)  6\n",
       "6   (2023-01-17 08:17:00, 2023-01-17 08:17:10)  7\n",
       "7   (2023-01-17 08:17:10, 2023-01-17 08:17:20)  5\n",
       "8   (2023-01-17 08:17:20, 2023-01-17 08:17:30)  4\n",
       "9   (2023-01-17 08:17:30, 2023-01-17 08:17:40)  4\n",
       "10  (2023-01-17 08:17:40, 2023-01-17 08:17:50)  3\n",
       "11  (2023-01-17 08:17:50, 2023-01-17 08:18:00)  5\n",
       "12  (2023-01-17 08:18:00, 2023-01-17 08:18:10)  6\n",
       "13  (2023-01-17 08:18:10, 2023-01-17 08:18:20)  8\n",
       "14  (2023-01-17 08:18:20, 2023-01-17 08:18:30)  2"
      ]
     },
     "metadata": {},
     "output_type": "display_data"
    },
    {
     "data": {
      "text/html": [
       "<div>\n",
       "<style scoped>\n",
       "    .dataframe tbody tr th:only-of-type {\n",
       "        vertical-align: middle;\n",
       "    }\n",
       "\n",
       "    .dataframe tbody tr th {\n",
       "        vertical-align: top;\n",
       "    }\n",
       "\n",
       "    .dataframe thead th {\n",
       "        text-align: right;\n",
       "    }\n",
       "</style>\n",
       "<table border=\"1\" class=\"dataframe\">\n",
       "  <thead>\n",
       "    <tr style=\"text-align: right;\">\n",
       "      <th></th>\n",
       "      <th>0</th>\n",
       "      <th>1</th>\n",
       "    </tr>\n",
       "  </thead>\n",
       "  <tbody>\n",
       "    <tr>\n",
       "      <th>0</th>\n",
       "      <td>(2023-01-17 08:16:00, 2023-01-17 08:16:10)</td>\n",
       "      <td>3</td>\n",
       "    </tr>\n",
       "    <tr>\n",
       "      <th>1</th>\n",
       "      <td>(2023-01-17 08:16:10, 2023-01-17 08:16:20)</td>\n",
       "      <td>7</td>\n",
       "    </tr>\n",
       "    <tr>\n",
       "      <th>2</th>\n",
       "      <td>(2023-01-17 08:16:20, 2023-01-17 08:16:30)</td>\n",
       "      <td>7</td>\n",
       "    </tr>\n",
       "    <tr>\n",
       "      <th>3</th>\n",
       "      <td>(2023-01-17 08:16:30, 2023-01-17 08:16:40)</td>\n",
       "      <td>6</td>\n",
       "    </tr>\n",
       "    <tr>\n",
       "      <th>4</th>\n",
       "      <td>(2023-01-17 08:16:40, 2023-01-17 08:16:50)</td>\n",
       "      <td>4</td>\n",
       "    </tr>\n",
       "    <tr>\n",
       "      <th>5</th>\n",
       "      <td>(2023-01-17 08:16:50, 2023-01-17 08:17:00)</td>\n",
       "      <td>6</td>\n",
       "    </tr>\n",
       "    <tr>\n",
       "      <th>6</th>\n",
       "      <td>(2023-01-17 08:17:00, 2023-01-17 08:17:10)</td>\n",
       "      <td>7</td>\n",
       "    </tr>\n",
       "    <tr>\n",
       "      <th>7</th>\n",
       "      <td>(2023-01-17 08:17:10, 2023-01-17 08:17:20)</td>\n",
       "      <td>5</td>\n",
       "    </tr>\n",
       "    <tr>\n",
       "      <th>8</th>\n",
       "      <td>(2023-01-17 08:17:20, 2023-01-17 08:17:30)</td>\n",
       "      <td>4</td>\n",
       "    </tr>\n",
       "    <tr>\n",
       "      <th>9</th>\n",
       "      <td>(2023-01-17 08:17:30, 2023-01-17 08:17:40)</td>\n",
       "      <td>4</td>\n",
       "    </tr>\n",
       "    <tr>\n",
       "      <th>10</th>\n",
       "      <td>(2023-01-17 08:17:40, 2023-01-17 08:17:50)</td>\n",
       "      <td>3</td>\n",
       "    </tr>\n",
       "    <tr>\n",
       "      <th>11</th>\n",
       "      <td>(2023-01-17 08:17:50, 2023-01-17 08:18:00)</td>\n",
       "      <td>5</td>\n",
       "    </tr>\n",
       "    <tr>\n",
       "      <th>12</th>\n",
       "      <td>(2023-01-17 08:18:00, 2023-01-17 08:18:10)</td>\n",
       "      <td>6</td>\n",
       "    </tr>\n",
       "    <tr>\n",
       "      <th>13</th>\n",
       "      <td>(2023-01-17 08:18:10, 2023-01-17 08:18:20)</td>\n",
       "      <td>8</td>\n",
       "    </tr>\n",
       "    <tr>\n",
       "      <th>14</th>\n",
       "      <td>(2023-01-17 08:18:20, 2023-01-17 08:18:30)</td>\n",
       "      <td>2</td>\n",
       "    </tr>\n",
       "  </tbody>\n",
       "</table>\n",
       "</div>"
      ],
      "text/plain": [
       "                                             0  1\n",
       "0   (2023-01-17 08:16:00, 2023-01-17 08:16:10)  3\n",
       "1   (2023-01-17 08:16:10, 2023-01-17 08:16:20)  7\n",
       "2   (2023-01-17 08:16:20, 2023-01-17 08:16:30)  7\n",
       "3   (2023-01-17 08:16:30, 2023-01-17 08:16:40)  6\n",
       "4   (2023-01-17 08:16:40, 2023-01-17 08:16:50)  4\n",
       "5   (2023-01-17 08:16:50, 2023-01-17 08:17:00)  6\n",
       "6   (2023-01-17 08:17:00, 2023-01-17 08:17:10)  7\n",
       "7   (2023-01-17 08:17:10, 2023-01-17 08:17:20)  5\n",
       "8   (2023-01-17 08:17:20, 2023-01-17 08:17:30)  4\n",
       "9   (2023-01-17 08:17:30, 2023-01-17 08:17:40)  4\n",
       "10  (2023-01-17 08:17:40, 2023-01-17 08:17:50)  3\n",
       "11  (2023-01-17 08:17:50, 2023-01-17 08:18:00)  5\n",
       "12  (2023-01-17 08:18:00, 2023-01-17 08:18:10)  6\n",
       "13  (2023-01-17 08:18:10, 2023-01-17 08:18:20)  8\n",
       "14  (2023-01-17 08:18:20, 2023-01-17 08:18:30)  2"
      ]
     },
     "metadata": {},
     "output_type": "display_data"
    },
    {
     "data": {
      "text/html": [
       "<div>\n",
       "<style scoped>\n",
       "    .dataframe tbody tr th:only-of-type {\n",
       "        vertical-align: middle;\n",
       "    }\n",
       "\n",
       "    .dataframe tbody tr th {\n",
       "        vertical-align: top;\n",
       "    }\n",
       "\n",
       "    .dataframe thead th {\n",
       "        text-align: right;\n",
       "    }\n",
       "</style>\n",
       "<table border=\"1\" class=\"dataframe\">\n",
       "  <thead>\n",
       "    <tr style=\"text-align: right;\">\n",
       "      <th></th>\n",
       "      <th>0</th>\n",
       "      <th>1</th>\n",
       "    </tr>\n",
       "  </thead>\n",
       "  <tbody>\n",
       "    <tr>\n",
       "      <th>0</th>\n",
       "      <td>(2023-01-17 08:16:00, 2023-01-17 08:16:10)</td>\n",
       "      <td>3</td>\n",
       "    </tr>\n",
       "    <tr>\n",
       "      <th>1</th>\n",
       "      <td>(2023-01-17 08:16:10, 2023-01-17 08:16:20)</td>\n",
       "      <td>7</td>\n",
       "    </tr>\n",
       "    <tr>\n",
       "      <th>2</th>\n",
       "      <td>(2023-01-17 08:16:20, 2023-01-17 08:16:30)</td>\n",
       "      <td>7</td>\n",
       "    </tr>\n",
       "    <tr>\n",
       "      <th>3</th>\n",
       "      <td>(2023-01-17 08:16:30, 2023-01-17 08:16:40)</td>\n",
       "      <td>6</td>\n",
       "    </tr>\n",
       "    <tr>\n",
       "      <th>4</th>\n",
       "      <td>(2023-01-17 08:16:40, 2023-01-17 08:16:50)</td>\n",
       "      <td>4</td>\n",
       "    </tr>\n",
       "    <tr>\n",
       "      <th>5</th>\n",
       "      <td>(2023-01-17 08:16:50, 2023-01-17 08:17:00)</td>\n",
       "      <td>6</td>\n",
       "    </tr>\n",
       "    <tr>\n",
       "      <th>6</th>\n",
       "      <td>(2023-01-17 08:17:00, 2023-01-17 08:17:10)</td>\n",
       "      <td>7</td>\n",
       "    </tr>\n",
       "    <tr>\n",
       "      <th>7</th>\n",
       "      <td>(2023-01-17 08:17:10, 2023-01-17 08:17:20)</td>\n",
       "      <td>5</td>\n",
       "    </tr>\n",
       "    <tr>\n",
       "      <th>8</th>\n",
       "      <td>(2023-01-17 08:17:20, 2023-01-17 08:17:30)</td>\n",
       "      <td>4</td>\n",
       "    </tr>\n",
       "    <tr>\n",
       "      <th>9</th>\n",
       "      <td>(2023-01-17 08:17:30, 2023-01-17 08:17:40)</td>\n",
       "      <td>4</td>\n",
       "    </tr>\n",
       "    <tr>\n",
       "      <th>10</th>\n",
       "      <td>(2023-01-17 08:17:40, 2023-01-17 08:17:50)</td>\n",
       "      <td>3</td>\n",
       "    </tr>\n",
       "    <tr>\n",
       "      <th>11</th>\n",
       "      <td>(2023-01-17 08:17:50, 2023-01-17 08:18:00)</td>\n",
       "      <td>5</td>\n",
       "    </tr>\n",
       "    <tr>\n",
       "      <th>12</th>\n",
       "      <td>(2023-01-17 08:18:00, 2023-01-17 08:18:10)</td>\n",
       "      <td>6</td>\n",
       "    </tr>\n",
       "    <tr>\n",
       "      <th>13</th>\n",
       "      <td>(2023-01-17 08:18:10, 2023-01-17 08:18:20)</td>\n",
       "      <td>8</td>\n",
       "    </tr>\n",
       "    <tr>\n",
       "      <th>14</th>\n",
       "      <td>(2023-01-17 08:18:20, 2023-01-17 08:18:30)</td>\n",
       "      <td>2</td>\n",
       "    </tr>\n",
       "  </tbody>\n",
       "</table>\n",
       "</div>"
      ],
      "text/plain": [
       "                                             0  1\n",
       "0   (2023-01-17 08:16:00, 2023-01-17 08:16:10)  3\n",
       "1   (2023-01-17 08:16:10, 2023-01-17 08:16:20)  7\n",
       "2   (2023-01-17 08:16:20, 2023-01-17 08:16:30)  7\n",
       "3   (2023-01-17 08:16:30, 2023-01-17 08:16:40)  6\n",
       "4   (2023-01-17 08:16:40, 2023-01-17 08:16:50)  4\n",
       "5   (2023-01-17 08:16:50, 2023-01-17 08:17:00)  6\n",
       "6   (2023-01-17 08:17:00, 2023-01-17 08:17:10)  7\n",
       "7   (2023-01-17 08:17:10, 2023-01-17 08:17:20)  5\n",
       "8   (2023-01-17 08:17:20, 2023-01-17 08:17:30)  4\n",
       "9   (2023-01-17 08:17:30, 2023-01-17 08:17:40)  4\n",
       "10  (2023-01-17 08:17:40, 2023-01-17 08:17:50)  3\n",
       "11  (2023-01-17 08:17:50, 2023-01-17 08:18:00)  5\n",
       "12  (2023-01-17 08:18:00, 2023-01-17 08:18:10)  6\n",
       "13  (2023-01-17 08:18:10, 2023-01-17 08:18:20)  8\n",
       "14  (2023-01-17 08:18:20, 2023-01-17 08:18:30)  2"
      ]
     },
     "metadata": {},
     "output_type": "display_data"
    },
    {
     "data": {
      "text/html": [
       "<div>\n",
       "<style scoped>\n",
       "    .dataframe tbody tr th:only-of-type {\n",
       "        vertical-align: middle;\n",
       "    }\n",
       "\n",
       "    .dataframe tbody tr th {\n",
       "        vertical-align: top;\n",
       "    }\n",
       "\n",
       "    .dataframe thead th {\n",
       "        text-align: right;\n",
       "    }\n",
       "</style>\n",
       "<table border=\"1\" class=\"dataframe\">\n",
       "  <thead>\n",
       "    <tr style=\"text-align: right;\">\n",
       "      <th></th>\n",
       "      <th>0</th>\n",
       "      <th>1</th>\n",
       "    </tr>\n",
       "  </thead>\n",
       "  <tbody>\n",
       "    <tr>\n",
       "      <th>0</th>\n",
       "      <td>(2023-01-17 08:16:30, 2023-01-17 08:16:40)</td>\n",
       "      <td>6</td>\n",
       "    </tr>\n",
       "    <tr>\n",
       "      <th>1</th>\n",
       "      <td>(2023-01-17 08:16:40, 2023-01-17 08:16:50)</td>\n",
       "      <td>4</td>\n",
       "    </tr>\n",
       "    <tr>\n",
       "      <th>2</th>\n",
       "      <td>(2023-01-17 08:16:50, 2023-01-17 08:17:00)</td>\n",
       "      <td>6</td>\n",
       "    </tr>\n",
       "    <tr>\n",
       "      <th>3</th>\n",
       "      <td>(2023-01-17 08:17:00, 2023-01-17 08:17:10)</td>\n",
       "      <td>7</td>\n",
       "    </tr>\n",
       "    <tr>\n",
       "      <th>4</th>\n",
       "      <td>(2023-01-17 08:17:10, 2023-01-17 08:17:20)</td>\n",
       "      <td>5</td>\n",
       "    </tr>\n",
       "    <tr>\n",
       "      <th>5</th>\n",
       "      <td>(2023-01-17 08:17:20, 2023-01-17 08:17:30)</td>\n",
       "      <td>4</td>\n",
       "    </tr>\n",
       "    <tr>\n",
       "      <th>6</th>\n",
       "      <td>(2023-01-17 08:17:30, 2023-01-17 08:17:40)</td>\n",
       "      <td>4</td>\n",
       "    </tr>\n",
       "    <tr>\n",
       "      <th>7</th>\n",
       "      <td>(2023-01-17 08:17:40, 2023-01-17 08:17:50)</td>\n",
       "      <td>3</td>\n",
       "    </tr>\n",
       "    <tr>\n",
       "      <th>8</th>\n",
       "      <td>(2023-01-17 08:17:50, 2023-01-17 08:18:00)</td>\n",
       "      <td>5</td>\n",
       "    </tr>\n",
       "    <tr>\n",
       "      <th>9</th>\n",
       "      <td>(2023-01-17 08:18:00, 2023-01-17 08:18:10)</td>\n",
       "      <td>6</td>\n",
       "    </tr>\n",
       "    <tr>\n",
       "      <th>10</th>\n",
       "      <td>(2023-01-17 08:18:10, 2023-01-17 08:18:20)</td>\n",
       "      <td>8</td>\n",
       "    </tr>\n",
       "    <tr>\n",
       "      <th>11</th>\n",
       "      <td>(2023-01-17 08:18:20, 2023-01-17 08:18:30)</td>\n",
       "      <td>8</td>\n",
       "    </tr>\n",
       "    <tr>\n",
       "      <th>12</th>\n",
       "      <td>(2023-01-17 08:18:30, 2023-01-17 08:18:40)</td>\n",
       "      <td>6</td>\n",
       "    </tr>\n",
       "    <tr>\n",
       "      <th>13</th>\n",
       "      <td>(2023-01-17 08:18:40, 2023-01-17 08:18:50)</td>\n",
       "      <td>7</td>\n",
       "    </tr>\n",
       "    <tr>\n",
       "      <th>14</th>\n",
       "      <td>(2023-01-17 08:18:50, 2023-01-17 08:19:00)</td>\n",
       "      <td>3</td>\n",
       "    </tr>\n",
       "  </tbody>\n",
       "</table>\n",
       "</div>"
      ],
      "text/plain": [
       "                                             0  1\n",
       "0   (2023-01-17 08:16:30, 2023-01-17 08:16:40)  6\n",
       "1   (2023-01-17 08:16:40, 2023-01-17 08:16:50)  4\n",
       "2   (2023-01-17 08:16:50, 2023-01-17 08:17:00)  6\n",
       "3   (2023-01-17 08:17:00, 2023-01-17 08:17:10)  7\n",
       "4   (2023-01-17 08:17:10, 2023-01-17 08:17:20)  5\n",
       "5   (2023-01-17 08:17:20, 2023-01-17 08:17:30)  4\n",
       "6   (2023-01-17 08:17:30, 2023-01-17 08:17:40)  4\n",
       "7   (2023-01-17 08:17:40, 2023-01-17 08:17:50)  3\n",
       "8   (2023-01-17 08:17:50, 2023-01-17 08:18:00)  5\n",
       "9   (2023-01-17 08:18:00, 2023-01-17 08:18:10)  6\n",
       "10  (2023-01-17 08:18:10, 2023-01-17 08:18:20)  8\n",
       "11  (2023-01-17 08:18:20, 2023-01-17 08:18:30)  8\n",
       "12  (2023-01-17 08:18:30, 2023-01-17 08:18:40)  6\n",
       "13  (2023-01-17 08:18:40, 2023-01-17 08:18:50)  7\n",
       "14  (2023-01-17 08:18:50, 2023-01-17 08:19:00)  3"
      ]
     },
     "metadata": {},
     "output_type": "display_data"
    },
    {
     "data": {
      "text/html": [
       "<div>\n",
       "<style scoped>\n",
       "    .dataframe tbody tr th:only-of-type {\n",
       "        vertical-align: middle;\n",
       "    }\n",
       "\n",
       "    .dataframe tbody tr th {\n",
       "        vertical-align: top;\n",
       "    }\n",
       "\n",
       "    .dataframe thead th {\n",
       "        text-align: right;\n",
       "    }\n",
       "</style>\n",
       "<table border=\"1\" class=\"dataframe\">\n",
       "  <thead>\n",
       "    <tr style=\"text-align: right;\">\n",
       "      <th></th>\n",
       "      <th>0</th>\n",
       "      <th>1</th>\n",
       "    </tr>\n",
       "  </thead>\n",
       "  <tbody>\n",
       "    <tr>\n",
       "      <th>0</th>\n",
       "      <td>(2023-01-17 08:16:40, 2023-01-17 08:16:50)</td>\n",
       "      <td>4</td>\n",
       "    </tr>\n",
       "    <tr>\n",
       "      <th>1</th>\n",
       "      <td>(2023-01-17 08:16:50, 2023-01-17 08:17:00)</td>\n",
       "      <td>6</td>\n",
       "    </tr>\n",
       "    <tr>\n",
       "      <th>2</th>\n",
       "      <td>(2023-01-17 08:17:00, 2023-01-17 08:17:10)</td>\n",
       "      <td>7</td>\n",
       "    </tr>\n",
       "    <tr>\n",
       "      <th>3</th>\n",
       "      <td>(2023-01-17 08:17:10, 2023-01-17 08:17:20)</td>\n",
       "      <td>5</td>\n",
       "    </tr>\n",
       "    <tr>\n",
       "      <th>4</th>\n",
       "      <td>(2023-01-17 08:17:20, 2023-01-17 08:17:30)</td>\n",
       "      <td>4</td>\n",
       "    </tr>\n",
       "    <tr>\n",
       "      <th>5</th>\n",
       "      <td>(2023-01-17 08:17:30, 2023-01-17 08:17:40)</td>\n",
       "      <td>4</td>\n",
       "    </tr>\n",
       "    <tr>\n",
       "      <th>6</th>\n",
       "      <td>(2023-01-17 08:17:40, 2023-01-17 08:17:50)</td>\n",
       "      <td>3</td>\n",
       "    </tr>\n",
       "    <tr>\n",
       "      <th>7</th>\n",
       "      <td>(2023-01-17 08:17:50, 2023-01-17 08:18:00)</td>\n",
       "      <td>5</td>\n",
       "    </tr>\n",
       "    <tr>\n",
       "      <th>8</th>\n",
       "      <td>(2023-01-17 08:18:00, 2023-01-17 08:18:10)</td>\n",
       "      <td>6</td>\n",
       "    </tr>\n",
       "    <tr>\n",
       "      <th>9</th>\n",
       "      <td>(2023-01-17 08:18:10, 2023-01-17 08:18:20)</td>\n",
       "      <td>8</td>\n",
       "    </tr>\n",
       "    <tr>\n",
       "      <th>10</th>\n",
       "      <td>(2023-01-17 08:18:20, 2023-01-17 08:18:30)</td>\n",
       "      <td>8</td>\n",
       "    </tr>\n",
       "    <tr>\n",
       "      <th>11</th>\n",
       "      <td>(2023-01-17 08:18:30, 2023-01-17 08:18:40)</td>\n",
       "      <td>6</td>\n",
       "    </tr>\n",
       "    <tr>\n",
       "      <th>12</th>\n",
       "      <td>(2023-01-17 08:18:40, 2023-01-17 08:18:50)</td>\n",
       "      <td>7</td>\n",
       "    </tr>\n",
       "    <tr>\n",
       "      <th>13</th>\n",
       "      <td>(2023-01-17 08:18:50, 2023-01-17 08:19:00)</td>\n",
       "      <td>6</td>\n",
       "    </tr>\n",
       "    <tr>\n",
       "      <th>14</th>\n",
       "      <td>(2023-01-17 08:19:00, 2023-01-17 08:19:10)</td>\n",
       "      <td>2</td>\n",
       "    </tr>\n",
       "  </tbody>\n",
       "</table>\n",
       "</div>"
      ],
      "text/plain": [
       "                                             0  1\n",
       "0   (2023-01-17 08:16:40, 2023-01-17 08:16:50)  4\n",
       "1   (2023-01-17 08:16:50, 2023-01-17 08:17:00)  6\n",
       "2   (2023-01-17 08:17:00, 2023-01-17 08:17:10)  7\n",
       "3   (2023-01-17 08:17:10, 2023-01-17 08:17:20)  5\n",
       "4   (2023-01-17 08:17:20, 2023-01-17 08:17:30)  4\n",
       "5   (2023-01-17 08:17:30, 2023-01-17 08:17:40)  4\n",
       "6   (2023-01-17 08:17:40, 2023-01-17 08:17:50)  3\n",
       "7   (2023-01-17 08:17:50, 2023-01-17 08:18:00)  5\n",
       "8   (2023-01-17 08:18:00, 2023-01-17 08:18:10)  6\n",
       "9   (2023-01-17 08:18:10, 2023-01-17 08:18:20)  8\n",
       "10  (2023-01-17 08:18:20, 2023-01-17 08:18:30)  8\n",
       "11  (2023-01-17 08:18:30, 2023-01-17 08:18:40)  6\n",
       "12  (2023-01-17 08:18:40, 2023-01-17 08:18:50)  7\n",
       "13  (2023-01-17 08:18:50, 2023-01-17 08:19:00)  6\n",
       "14  (2023-01-17 08:19:00, 2023-01-17 08:19:10)  2"
      ]
     },
     "metadata": {},
     "output_type": "display_data"
    },
    {
     "ename": "KeyboardInterrupt",
     "evalue": "",
     "output_type": "error",
     "traceback": [
      "\u001b[0;31m---------------------------------------------------------------------------\u001b[0m",
      "\u001b[0;31mKeyboardInterrupt\u001b[0m                         Traceback (most recent call last)",
      "Cell \u001b[0;32mIn[7], line 15\u001b[0m\n\u001b[1;32m      5\u001b[0m \u001b[38;5;28;01mwhile\u001b[39;00m \u001b[38;5;28;01mTrue\u001b[39;00m:\n\u001b[1;32m      6\u001b[0m     \u001b[38;5;66;03m#clear_output(wait=True)\u001b[39;00m\n\u001b[1;32m      7\u001b[0m     \u001b[38;5;66;03m#display(query.status)\u001b[39;00m\n\u001b[1;32m      8\u001b[0m     display(pd\u001b[38;5;241m.\u001b[39mDataFrame(df\n\u001b[1;32m      9\u001b[0m         \u001b[38;5;241m.\u001b[39mselectExpr(\u001b[38;5;124m\"\u001b[39m\u001b[38;5;124mfrom_unixtime(CAST(ts/1000 as BIGINT)) as ts\u001b[39m\u001b[38;5;124m\"\u001b[39m)\n\u001b[1;32m     10\u001b[0m         \u001b[38;5;241m.\u001b[39mgroupBy(window(\u001b[38;5;124m\"\u001b[39m\u001b[38;5;124mts\u001b[39m\u001b[38;5;124m\"\u001b[39m, \u001b[38;5;124m\"\u001b[39m\u001b[38;5;124m10 seconds\u001b[39m\u001b[38;5;124m\"\u001b[39m))\n\u001b[0;32m   (...)\u001b[0m\n\u001b[1;32m     13\u001b[0m         \u001b[38;5;241m.\u001b[39mtail(\u001b[38;5;241m15\u001b[39m)\n\u001b[1;32m     14\u001b[0m     ))\n\u001b[0;32m---> 15\u001b[0m     \u001b[43msleep\u001b[49m\u001b[43m(\u001b[49m\u001b[38;5;241;43m10\u001b[39;49m\u001b[43m)\u001b[49m\n",
      "\u001b[0;31mKeyboardInterrupt\u001b[0m: "
     ]
    }
   ],
   "source": [
    "from pyspark.sql.functions import window\n",
    "import pandas as pd\n",
    "\n",
    "while True:\n",
    "    #clear_output(wait=True)\n",
    "    #display(query.status)\n",
    "    display(pd.DataFrame(df\n",
    "        .selectExpr(\"from_unixtime(CAST(ts/1000 as BIGINT)) as ts\")\n",
    "        .groupBy(window(\"ts\", \"10 seconds\"))\n",
    "        .count()\n",
    "        .sort(\"window\")\n",
    "        .tail(15)\n",
    "    ))\n",
    "    sleep(10)"
   ]
  },
  {
   "cell_type": "code",
   "execution_count": null,
   "id": "9dd3d282",
   "metadata": {},
   "outputs": [],
   "source": []
  }
 ],
 "metadata": {
  "kernelspec": {
   "display_name": "Python 3 (ipykernel)",
   "language": "python",
   "name": "python3"
  },
  "language_info": {
   "codemirror_mode": {
    "name": "ipython",
    "version": 3
   },
   "file_extension": ".py",
   "mimetype": "text/x-python",
   "name": "python",
   "nbconvert_exporter": "python",
   "pygments_lexer": "ipython3",
   "version": "3.10.8"
  }
 },
 "nbformat": 4,
 "nbformat_minor": 5
}
